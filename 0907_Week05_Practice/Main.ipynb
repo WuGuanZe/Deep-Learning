{
 "cells": [
  {
   "cell_type": "code",
   "execution_count": 1,
   "metadata": {},
   "outputs": [],
   "source": [
    "import numpy as np\n",
    "from environment import Maze\n",
    "from agent import Agent\n",
    "import matplotlib.pyplot as plt \n",
    "from IPython.display import clear_output"
   ]
  },
  {
   "cell_type": "code",
   "execution_count": null,
   "metadata": {
    "scrolled": false
   },
   "outputs": [
    {
     "name": "stdout",
     "output_type": "stream",
     "text": [
      "maze.steps :  100\n",
      "------------------------------------------\n",
      "\t\t\t\t\tX\t\n",
      "\n",
      "\t\t\t\t\tX\t\n",
      "\n",
      "\t\tX\tX\tX\tX\t\n",
      "\n",
      "\t\tX\t\t\tX\t\n",
      "\n",
      "\t\t\t\tR\t\t\n",
      "\n",
      "X\tX\tX\tX\tX\t\t\n",
      "\n",
      "------------------------------------------\n",
      "\n",
      "-0.620951\t-0.300555\t-0.762411\t-0.852096\t-0.330290\tX\t\t\n",
      "\n",
      "-0.799151\t-0.805695\t-0.901350\t-0.115930\t-0.241670\tX\t\t\n",
      "\n",
      "-0.528078\t-0.801088\tX\t\tX\t\tX\t\tX\t\t\n",
      "\n",
      "-0.841323\t-0.198078\tX\t\t-0.657603\t-0.986227\tX\t\t\n",
      "\n",
      "-0.311015\t-0.679916\t-0.702705\t-0.445928\t\u001b[31m-0.155198\u001b[0m\t-0.559310\t\n",
      "\n",
      "X\t\tX\t\tX\t\tX\t\tX\t\t-0.670848\t\n",
      "\n"
     ]
    }
   ],
   "source": [
    "maze = Maze()\n",
    "robot = Agent(maze, alpha=0.1, randomFactor=0.25)\n",
    "moveHistory = []\n",
    "\n",
    "for epoch in range(5000):  \n",
    "    while not maze.isGameOver():\n",
    "        state, _ = maze.getStateAndReward()\n",
    "        action = robot.chooseAction(state, maze.allowedStates[state])\n",
    "        maze.updateMaze(action)\n",
    "        state, reward = maze.getStateAndReward()\n",
    "        robot.updateStateHistory(state, reward)\n",
    "        \n",
    "        ## 每100次，就印出迷宮狀態跟機器人的學習狀況\n",
    "        if maze.steps % 100 == 0:\n",
    "            clear_output()\n",
    "            print(\"maze.steps : \", maze.steps)\n",
    "            maze.printMaze()\n",
    "            print()\n",
    "            robot.printG(maze.robotPosition)\n",
    "            input()\n",
    "            \n",
    "        \n",
    "        if maze.steps > 1000:\n",
    "            maze.robotPosition = (5,5)\n",
    "    \n",
    "    clear_output()\n",
    "    print(\"第%d回合結束 : 迷宮行走步數 %d \"%(epoch+1,  maze.steps))\n",
    "    print('學習前')\n",
    "    robot.printG()\n",
    "    print()\n",
    "    print()\n",
    "    print('學習後')\n",
    "    robot.learn()\n",
    "    robot.printG(showPreStateHistory=True)\n",
    "    input()\n",
    "    moveHistory.append(maze.steps)\n",
    "    maze = Maze()"
   ]
  },
  {
   "cell_type": "code",
   "execution_count": null,
   "metadata": {},
   "outputs": [],
   "source": [
    "plt.figure(figsize=(15, 8))\n",
    "plt.semilogy(moveHistory, 'b--')\n",
    "plt.legend(['alpha=0.1'])\n",
    "plt.show()"
   ]
  },
  {
   "cell_type": "code",
   "execution_count": null,
   "metadata": {},
   "outputs": [],
   "source": []
  },
  {
   "cell_type": "markdown",
   "metadata": {},
   "source": [
    "# 比較 alpha = 0.1 與 0.99 的差別"
   ]
  },
  {
   "cell_type": "code",
   "execution_count": null,
   "metadata": {},
   "outputs": [],
   "source": [
    "maze = Maze()\n",
    "robot = Agent(maze, alpha=0.1, randomFactor=0.25)\n",
    "moveHistory = []\n",
    "for i in range(5000):\n",
    "    if i % 1000 == 0:\n",
    "        print(i)\n",
    "    while not maze.isGameOver():\n",
    "        state, _ = maze.getStateAndReward()\n",
    "        action = robot.chooseAction(state, maze.allowedStates[state])\n",
    "        maze.updateMaze(action)\n",
    "        state, reward = maze.getStateAndReward()\n",
    "        robot.updateStateHistory(state, reward)\n",
    "        if maze.steps > 1000:\n",
    "            maze.robotPosition = (5,5)\n",
    "    robot.learn()\n",
    "    moveHistory.append(maze.steps)\n",
    "    maze = Maze()\n",
    "\n",
    "maze = Maze()\n",
    "robot = Agent(maze, alpha=0.99, randomFactor=0.25)\n",
    "moveHistory2 = []\n",
    "for i in range(5000):\n",
    "    if i % 1000 == 0:\n",
    "        print(i)\n",
    "    while not maze.isGameOver():\n",
    "        state, _ = maze.getStateAndReward()\n",
    "        action = robot.chooseAction(state, maze.allowedStates[state])\n",
    "        maze.updateMaze(action)\n",
    "        state, reward = maze.getStateAndReward()\n",
    "        robot.updateStateHistory(state, reward)\n",
    "        if maze.steps > 1000:\n",
    "            maze.robotPosition = (5,5)            \n",
    "    robot.learn()\n",
    "    moveHistory2.append(maze.steps)\n",
    "    maze = Maze()\n",
    "\n",
    "\n",
    "plt.close()\n",
    "plt.figure(figsize=(15, 8))\n",
    "plt.subplot(211)\n",
    "plt.semilogy(moveHistory, 'b--')\n",
    "plt.legend(['alpha=0.1'])\n",
    "plt.subplot(212)\n",
    "plt.semilogy(moveHistory2, 'r--')\n",
    "plt.legend(['alpha=0.99'])\n",
    "plt.show()"
   ]
  },
  {
   "cell_type": "code",
   "execution_count": null,
   "metadata": {},
   "outputs": [],
   "source": []
  },
  {
   "cell_type": "code",
   "execution_count": null,
   "metadata": {},
   "outputs": [],
   "source": [
    "import numpy as np"
   ]
  },
  {
   "cell_type": "code",
   "execution_count": null,
   "metadata": {},
   "outputs": [],
   "source": [
    "maze = np.zeros((6,6))"
   ]
  },
  {
   "cell_type": "code",
   "execution_count": null,
   "metadata": {},
   "outputs": [],
   "source": [
    "maze[5, :5] = 1 ## 下面牆壁\n",
    "maze[:4, 5] = 1 ## 右邊牆壁\n",
    "maze[2, 2:] = 1\n",
    "maze[3,2] = 1\n",
    "maze[0,0] = 2"
   ]
  },
  {
   "cell_type": "code",
   "execution_count": null,
   "metadata": {},
   "outputs": [],
   "source": [
    "maze"
   ]
  },
  {
   "cell_type": "code",
   "execution_count": null,
   "metadata": {},
   "outputs": [],
   "source": []
  }
 ],
 "metadata": {
  "kernelspec": {
   "display_name": "Python 3",
   "language": "python",
   "name": "python3"
  },
  "language_info": {
   "codemirror_mode": {
    "name": "ipython",
    "version": 3
   },
   "file_extension": ".py",
   "mimetype": "text/x-python",
   "name": "python",
   "nbconvert_exporter": "python",
   "pygments_lexer": "ipython3",
   "version": "3.7.3"
  }
 },
 "nbformat": 4,
 "nbformat_minor": 2
}
